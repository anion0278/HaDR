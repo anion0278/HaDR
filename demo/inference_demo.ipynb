{
 "cells": [
  {
   "cell_type": "code",
   "execution_count": 1,
   "metadata": {},
   "outputs": [
    {
     "name": "stderr",
     "output_type": "stream",
     "text": [
      "c:\\users\\stefan\\source\\repos\\hgr_cnn\\solo\\mmdet\\apis\\inference.py:42: UserWarning: Class names are not saved in the checkpoint's meta data, use COCO classes by default.\n",
      "  warnings.warn('Class names are not saved in the checkpoint\\'s '\n"
     ]
    },
    {
     "name": "stdout",
     "output_type": "stream",
     "text": [
      "test\n"
     ]
    }
   ],
   "source": [
    "from mmdet.apis import init_detector, inference_detector, show_result_pyplot\n",
    "# config_file = '../configs/mask_rcnn_r101_fpn_custom.py'\n",
    "config_file = '../configs/solov2/solov2_r101_fpn_custom.py'\n",
    "# download the checkpoint from model zoo and put it in `checkpoints/`\n",
    "# checkpoint_file = '../checkpoints/DECOUPLED_SOLO_R50_3x.pth'\n",
    "checkpoint_file = '../checkpoints/epoch_6.pth'\n",
    "# build the model from a config file and a checkpoint file\n",
    "model = init_detector(config_file, checkpoint_file, device='cuda:0')\n",
    "print(\"test\")"
   ]
  },
  {
   "cell_type": "code",
   "execution_count": 9,
   "metadata": {},
   "outputs": [
    {
     "name": "stderr",
     "output_type": "stream",
     "text": [
      "D:\\APPS\\conda\\envs\\solo\\lib\\site-packages\\torch\\nn\\functional.py:3635: UserWarning: Default upsampling behavior when mode=bilinear is changed to align_corners=False since 0.4.0. Please specify align_corners=True if the old behavior is desired. See the documentation of nn.Upsample for details.\n",
      "  \"See the documentation of nn.Upsample for details.\".format(mode)\n",
      "D:\\APPS\\conda\\envs\\solo\\lib\\site-packages\\torch\\nn\\functional.py:3680: UserWarning: The default behavior for interpolate/upsample with float scale_factor changed in 1.6.0 to align with other frameworks/libraries, and now uses scale_factor directly, instead of relying on the computed output size. If you wish to restore the old behavior, please set recompute_scale_factor=True. See the documentation of nn.Upsample for details. \n",
      "  \"The default behavior for interpolate/upsample with float scale_factor changed \"\n"
     ]
    }
   ],
   "source": [
    "\n",
    "from mmdet.apis import inference_detector, show_result_ins\n",
    "import cv2\n",
    "model.CLASSES = [\"hand\"]\n",
    "\n",
    "def detect(img_path):\n",
    "    result = inference_detector(model, img_path)\n",
    "\n",
    "    img_res = show_result_ins(img, result, model.CLASSES, score_thr=0.3)\n",
    "    cv2.imshow(\"detection\", img_res)\n",
    "\n",
    "img = r\"C:\\Users\\Stefan\\source\\repos\\HGR_CNN\\datasets\\rgbd_joined_dataset\\ruka_2/color/0000022_gest1_X-182.6_Y189.1_Z386.6_hand1_date27-02-2022_20#27#32.png\"\n",
    "detect(img)\n",
    "\n",
    "\n",
    "for f in [\"425\", \"399\", \"292\", \"315\", \"11_140\", \"13_150\", \"7_240\", \"5_209\", \"497\", \"10_124\",\"458\", \"302\",  \"9_152\",  \"1\", \"2\", \"3\", \"4\", \"5\", \"6\",  \"282\", \"372\", ]:\n",
    "# for f in [\"12_131\", \"7_240\", \"8_196\", \"9_152\", \"12_131\"]:\n",
    "    import os\n",
    "    img = os.path.abspath('../../datasets/real_cam/2_ruce_rukavice_250/color') + \"/\" + f+\".png\"\n",
    "    detect(img)\n"
   ]
  }
 ],
 "metadata": {
  "kernelspec": {
   "display_name": "Python 3",
   "language": "python",
   "name": "python3"
  },
  "language_info": {
   "codemirror_mode": {
    "name": "ipython",
    "version": 3
   },
   "file_extension": ".py",
   "mimetype": "text/x-python",
   "name": "python",
   "nbconvert_exporter": "python",
   "pygments_lexer": "ipython3",
   "version": "3.7.11"
  }
 },
 "nbformat": 4,
 "nbformat_minor": 2
}
